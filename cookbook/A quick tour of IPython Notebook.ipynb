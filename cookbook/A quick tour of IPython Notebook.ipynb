{
  "nbformat": 4,
  "nbformat_minor": 0,
  "metadata": {
    "orig_nbformat": 3,
    "colab": {
      "name": "A quick tour of IPython Notebook.ipynb",
      "provenance": []
    },
    "kernelspec": {
      "name": "python3",
      "display_name": "Python 3"
    }
  },
  "cells": [
    {
      "cell_type": "markdown",
      "metadata": {
        "id": "ag6QiSygQSrf",
        "colab_type": "text"
      },
      "source": [
        "# A quick tour of IPython Notebook"
      ]
    },
    {
      "cell_type": "markdown",
      "metadata": {
        "id": "t7rcgVlfQSrk",
        "colab_type": "text"
      },
      "source": [
        "This tour will work a little better in interactive mode, so it'll be better if you get IPython notebook installed and running. You can start it from a terminal by running\n",
        "\n",
        "`ipython notebook`"
      ]
    },
    {
      "cell_type": "markdown",
      "metadata": {
        "id": "TbBFW31gQSrm",
        "colab_type": "text"
      },
      "source": [
        "First, we need to explain how to run cells. Try to run the cell below!"
      ]
    },
    {
      "cell_type": "code",
      "metadata": {
        "trusted": false,
        "id": "uP3KtTS4QSro",
        "colab_type": "code",
        "colab": {
          "base_uri": "https://localhost:8080/",
          "height": 35
        },
        "outputId": "50501317-0b7f-4996-fa43-547a6d2aff72"
      },
      "source": [
        "import pandas as pd\n",
        "\n",
        "print (\"Hi! This is a cell. Press the ▶ button above to run it\")"
      ],
      "execution_count": 2,
      "outputs": [
        {
          "output_type": "stream",
          "text": [
            "Hi! This is a cell. Press the ▶ button above to run it\n"
          ],
          "name": "stdout"
        }
      ]
    },
    {
      "cell_type": "markdown",
      "metadata": {
        "id": "hTlSZYspQSrt",
        "colab_type": "text"
      },
      "source": [
        "You can also run a cell with Ctrl+Enter or Shift+Enter. Experiment a bit with that."
      ]
    },
    {
      "cell_type": "markdown",
      "metadata": {
        "id": "bKxIRw5ZQSrv",
        "colab_type": "text"
      },
      "source": [
        "One of the most useful things about IPython notebook is its tab completion. \n",
        "\n",
        "Try this: click just after read_csv( in the cell below and press Shift+Tab (or Tab if you're using IPython 1.x) 4 times, slowly"
      ]
    },
    {
      "cell_type": "code",
      "metadata": {
        "trusted": false,
        "id": "z1xZsAlwQSrw",
        "colab_type": "code",
        "colab": {}
      },
      "source": [
        "pd.read_csv("
      ],
      "execution_count": 0,
      "outputs": []
    },
    {
      "cell_type": "markdown",
      "metadata": {
        "id": "vNQyttFSQSr0",
        "colab_type": "text"
      },
      "source": [
        "After the first time, you should see this:\n",
        "<div align=\"center\">\n",
        "<img src=\"https://github.com/udaypratapyati/pandas-cookbook/blob/master/cookbook/images/tab-once.png?raw=1\" width=\"75%\">\n",
        "</div>\n",
        "\n",
        "After the second time:\n",
        "<div align=\"center\">\n",
        "<img src=\"https://github.com/udaypratapyati/pandas-cookbook/blob/master/cookbook/images/tab-twice.png?raw=1\" width=\"75%\">\n",
        "</div>\n",
        "\n",
        "After the fourth time, a big help box should pop up at the bottom of the screen, with the full documentation for the `read_csv` function:\n",
        "<div align=\"center\">\n",
        "<img src=\"https://github.com/udaypratapyati/pandas-cookbook/blob/master/cookbook/images/tab-4-times.png?raw=1\" width=\"90%\">\n",
        "</div>"
      ]
    },
    {
      "cell_type": "markdown",
      "metadata": {
        "id": "G8zqOUq3QSr2",
        "colab_type": "text"
      },
      "source": [
        "I find this amazingly useful. I think of this as \"the more confused I am, the more times I should press Shift+Tab\". Nothing bad will happen if you tab complete 12 times.\n",
        "\n",
        "Okay, let's try tab completion for function names!"
      ]
    },
    {
      "cell_type": "code",
      "metadata": {
        "trusted": false,
        "id": "2ZSfy4bWQSr4",
        "colab_type": "code",
        "colab": {}
      },
      "source": [
        "pd.r"
      ],
      "execution_count": 0,
      "outputs": []
    },
    {
      "cell_type": "markdown",
      "metadata": {
        "id": "AoJna8ddQSr8",
        "colab_type": "text"
      },
      "source": [
        "You should see this:\n",
        "\n",
        "<div align=\"center\">\n",
        "<img src=\"https://github.com/udaypratapyati/pandas-cookbook/blob/master/cookbook/images/function-completion.png?raw=1\" width=\"30%\">\n",
        "</div>"
      ]
    },
    {
      "cell_type": "markdown",
      "metadata": {
        "id": "pxjM4zoyQSr-",
        "colab_type": "text"
      },
      "source": [
        "# Writing code"
      ]
    },
    {
      "cell_type": "markdown",
      "metadata": {
        "id": "7BBb9VqlQSr_",
        "colab_type": "text"
      },
      "source": [
        "Writing code in the notebook is pretty normal."
      ]
    },
    {
      "cell_type": "code",
      "metadata": {
        "trusted": false,
        "id": "MtTWwVTDQSsA",
        "colab_type": "code",
        "colab": {}
      },
      "source": [
        "def print_10_nums():\n",
        "    for i in range(10):\n",
        "        print (i, end=' ')"
      ],
      "execution_count": 0,
      "outputs": []
    },
    {
      "cell_type": "code",
      "metadata": {
        "trusted": false,
        "id": "T5AazF7eQSsD",
        "colab_type": "code",
        "colab": {
          "base_uri": "https://localhost:8080/",
          "height": 35
        },
        "outputId": "8b307834-582d-4df2-b81b-c082c8748e7b"
      },
      "source": [
        "print_10_nums()"
      ],
      "execution_count": 8,
      "outputs": [
        {
          "output_type": "stream",
          "text": [
            "0 1 2 3 4 5 6 7 8 9 "
          ],
          "name": "stdout"
        }
      ]
    },
    {
      "cell_type": "markdown",
      "metadata": {
        "id": "n1515-ZmQSsJ",
        "colab_type": "text"
      },
      "source": [
        "# Saving"
      ]
    },
    {
      "cell_type": "markdown",
      "metadata": {
        "id": "7hBwhNgeQSsK",
        "colab_type": "text"
      },
      "source": [
        "As of the latest stable version, the notebook autosaves. You should use the latest stable version. Really."
      ]
    },
    {
      "cell_type": "markdown",
      "metadata": {
        "id": "yXig7fkUQSsL",
        "colab_type": "text"
      },
      "source": [
        "# Magic functions"
      ]
    },
    {
      "cell_type": "markdown",
      "metadata": {
        "id": "9YaywAXZQSsM",
        "colab_type": "text"
      },
      "source": [
        "IPython has all kinds of magic functions. Here's an example of comparing `sum()` with a list comprehension to a generator comprehension using the `%time` magic."
      ]
    },
    {
      "cell_type": "code",
      "metadata": {
        "trusted": false,
        "id": "Rw0ujAa_QSsN",
        "colab_type": "code",
        "colab": {
          "base_uri": "https://localhost:8080/",
          "height": 69
        },
        "outputId": "21a0ce0d-1a3b-4af4-d718-5d5934e6f287"
      },
      "source": [
        "%time sum([x for x in range(100000)])"
      ],
      "execution_count": 9,
      "outputs": [
        {
          "output_type": "stream",
          "text": [
            "CPU times: user 5.6 ms, sys: 3.91 ms, total: 9.5 ms\n",
            "Wall time: 9.82 ms\n"
          ],
          "name": "stdout"
        },
        {
          "output_type": "execute_result",
          "data": {
            "text/plain": [
              "4999950000"
            ]
          },
          "metadata": {
            "tags": []
          },
          "execution_count": 9
        }
      ]
    },
    {
      "cell_type": "code",
      "metadata": {
        "trusted": false,
        "id": "dTQBXPRZQSsR",
        "colab_type": "code",
        "colab": {
          "base_uri": "https://localhost:8080/",
          "height": 69
        },
        "outputId": "bd533937-0ada-4b95-e26a-c47a969cb416"
      },
      "source": [
        "%time sum(x for x in range(100000))"
      ],
      "execution_count": 10,
      "outputs": [
        {
          "output_type": "stream",
          "text": [
            "CPU times: user 5 ms, sys: 0 ns, total: 5 ms\n",
            "Wall time: 6.22 ms\n"
          ],
          "name": "stdout"
        },
        {
          "output_type": "execute_result",
          "data": {
            "text/plain": [
              "4999950000"
            ]
          },
          "metadata": {
            "tags": []
          },
          "execution_count": 10
        }
      ]
    },
    {
      "cell_type": "markdown",
      "metadata": {
        "id": "b-fGI_c6QSsX",
        "colab_type": "text"
      },
      "source": [
        "The magics I use most are `%time` and `%prun` for profiling. You can run `%magic` to get a list of all of them, and `%quickref` for a reference sheet."
      ]
    },
    {
      "cell_type": "code",
      "metadata": {
        "trusted": false,
        "id": "mQJYnDmbQSsY",
        "colab_type": "code",
        "colab": {}
      },
      "source": [
        "%quickref"
      ],
      "execution_count": 0,
      "outputs": []
    },
    {
      "cell_type": "markdown",
      "metadata": {
        "id": "Zh07vjKSQSsc",
        "colab_type": "text"
      },
      "source": [
        "You can also do nutty things like run Perl code in the notebook with cell magics. This is especially cool for things like Cython code, where you can try out Cython really fast with the `%%cython` magic (you'll need to install it)."
      ]
    },
    {
      "cell_type": "code",
      "metadata": {
        "trusted": false,
        "id": "HOSHBhrdQSsd",
        "colab_type": "code",
        "colab": {
          "base_uri": "https://localhost:8080/",
          "height": 35
        },
        "outputId": "3a692b1b-384f-4327-99e1-931c1b777b28"
      },
      "source": [
        "%%perl\n",
        "\n",
        "$_ = \"whoa, python!\";\n",
        "s/python/perl/;\n",
        "print"
      ],
      "execution_count": 12,
      "outputs": [
        {
          "output_type": "stream",
          "text": [
            "whoa, perl!"
          ],
          "name": "stdout"
        }
      ]
    },
    {
      "cell_type": "markdown",
      "metadata": {
        "id": "-pn96sLJQSsg",
        "colab_type": "text"
      },
      "source": [
        "That's it for now!"
      ]
    },
    {
      "cell_type": "markdown",
      "metadata": {
        "id": "ciRkebjkQSsh",
        "colab_type": "text"
      },
      "source": [
        "<style>\n",
        "    @font-face {\n",
        "        font-family: \"Computer Modern\";\n",
        "        src: url('http://mirrors.ctan.org/fonts/cm-unicode/fonts/otf/cmunss.otf');\n",
        "    }\n",
        "    div.cell{\n",
        "        width:800px;\n",
        "        margin-left:16% !important;\n",
        "        margin-right:auto;\n",
        "    }\n",
        "    h1 {\n",
        "        font-family: Helvetica, serif;\n",
        "    }\n",
        "    h4{\n",
        "        margin-top:12px;\n",
        "        margin-bottom: 3px;\n",
        "       }\n",
        "    div.text_cell_render{\n",
        "        font-family: Computer Modern, \"Helvetica Neue\", Arial, Helvetica, Geneva, sans-serif;\n",
        "        line-height: 145%;\n",
        "        font-size: 130%;\n",
        "        width:800px;\n",
        "        margin-left:auto;\n",
        "        margin-right:auto;\n",
        "    }\n",
        "    .CodeMirror{\n",
        "            font-family: \"Source Code Pro\", source-code-pro,Consolas, monospace;\n",
        "    }\n",
        "    .text_cell_render h5 {\n",
        "        font-weight: 300;\n",
        "        font-size: 22pt;\n",
        "        color: #4057A1;\n",
        "        font-style: italic;\n",
        "        margin-bottom: .5em;\n",
        "        margin-top: 0.5em;\n",
        "        display: block;\n",
        "    }\n",
        "    \n",
        "    .warning{\n",
        "        color: rgb( 240, 20, 20 )\n",
        "        }  "
      ]
    }
  ]
}