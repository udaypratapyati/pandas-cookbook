{
  "nbformat": 4,
  "nbformat_minor": 0,
  "metadata": {
    "orig_nbformat": 3,
    "colab": {
      "name": "Chapter 8 - How to deal with timestamps.ipynb",
      "provenance": []
    },
    "kernelspec": {
      "name": "python3",
      "display_name": "Python 3"
    }
  },
  "cells": [
    {
      "cell_type": "code",
      "metadata": {
        "trusted": false,
        "id": "5Z0fVLPqvb-b",
        "colab_type": "code",
        "colab": {}
      },
      "source": [
        "import pandas as pd"
      ],
      "execution_count": 0,
      "outputs": []
    },
    {
      "cell_type": "markdown",
      "metadata": {
        "id": "ZfQFf3iuvb-n",
        "colab_type": "text"
      },
      "source": [
        "# 8.1 Parsing Unix timestamps"
      ]
    },
    {
      "cell_type": "markdown",
      "metadata": {
        "id": "d6Gd5lMlvb-p",
        "colab_type": "text"
      },
      "source": [
        "It's not obvious how to deal with Unix timestamps in pandas -- it took me quite a while to figure this out. The file we're using here is a popularity-contest file I found on my system at `/var/log/popularity-contest`.\n",
        "\n",
        "Here's an [explanation of how this file works](http://popcon.ubuntu.com/README).\n",
        "\n",
        "I'm going to hope that nothing in it is sensitive :)"
      ]
    },
    {
      "cell_type": "code",
      "metadata": {
        "trusted": false,
        "id": "p_LVALcfvb-r",
        "colab_type": "code",
        "colab": {}
      },
      "source": [
        "# Read it, and remove the last row\n",
        "popcon = pd.read_csv('https://raw.githubusercontent.com/udaypratapyati/pandas-cookbook/master/data/popularity-contest', sep=' ', )[:-1]\n",
        "popcon.columns = ['atime', 'ctime', 'package-name', 'mru-program', 'tag']"
      ],
      "execution_count": 0,
      "outputs": []
    },
    {
      "cell_type": "markdown",
      "metadata": {
        "id": "sfcg0BUCvb-w",
        "colab_type": "text"
      },
      "source": [
        "The colums are the access time, created time, package name, recently used program, and a tag"
      ]
    },
    {
      "cell_type": "code",
      "metadata": {
        "trusted": false,
        "id": "CnVZptJMvb-y",
        "colab_type": "code",
        "colab": {
          "base_uri": "https://localhost:8080/",
          "height": 202
        },
        "outputId": "983a9225-b4d5-4ea5-ea73-f9f6d165e329"
      },
      "source": [
        "popcon[:5]"
      ],
      "execution_count": 4,
      "outputs": [
        {
          "output_type": "execute_result",
          "data": {
            "text/html": [
              "<div>\n",
              "<style scoped>\n",
              "    .dataframe tbody tr th:only-of-type {\n",
              "        vertical-align: middle;\n",
              "    }\n",
              "\n",
              "    .dataframe tbody tr th {\n",
              "        vertical-align: top;\n",
              "    }\n",
              "\n",
              "    .dataframe thead th {\n",
              "        text-align: right;\n",
              "    }\n",
              "</style>\n",
              "<table border=\"1\" class=\"dataframe\">\n",
              "  <thead>\n",
              "    <tr style=\"text-align: right;\">\n",
              "      <th></th>\n",
              "      <th>atime</th>\n",
              "      <th>ctime</th>\n",
              "      <th>package-name</th>\n",
              "      <th>mru-program</th>\n",
              "      <th>tag</th>\n",
              "    </tr>\n",
              "  </thead>\n",
              "  <tbody>\n",
              "    <tr>\n",
              "      <th>0</th>\n",
              "      <td>1387295797</td>\n",
              "      <td>1367633260</td>\n",
              "      <td>perl-base</td>\n",
              "      <td>/usr/bin/perl</td>\n",
              "      <td>NaN</td>\n",
              "    </tr>\n",
              "    <tr>\n",
              "      <th>1</th>\n",
              "      <td>1387295796</td>\n",
              "      <td>1354370480</td>\n",
              "      <td>login</td>\n",
              "      <td>/bin/su</td>\n",
              "      <td>NaN</td>\n",
              "    </tr>\n",
              "    <tr>\n",
              "      <th>2</th>\n",
              "      <td>1387295743</td>\n",
              "      <td>1354341275</td>\n",
              "      <td>libtalloc2</td>\n",
              "      <td>/usr/lib/x86_64-linux-gnu/libtalloc.so.2.0.7</td>\n",
              "      <td>NaN</td>\n",
              "    </tr>\n",
              "    <tr>\n",
              "      <th>3</th>\n",
              "      <td>1387295743</td>\n",
              "      <td>1387224204</td>\n",
              "      <td>libwbclient0</td>\n",
              "      <td>/usr/lib/x86_64-linux-gnu/libwbclient.so.0</td>\n",
              "      <td>&lt;RECENT-CTIME&gt;</td>\n",
              "    </tr>\n",
              "    <tr>\n",
              "      <th>4</th>\n",
              "      <td>1387295742</td>\n",
              "      <td>1354341253</td>\n",
              "      <td>libselinux1</td>\n",
              "      <td>/lib/x86_64-linux-gnu/libselinux.so.1</td>\n",
              "      <td>NaN</td>\n",
              "    </tr>\n",
              "  </tbody>\n",
              "</table>\n",
              "</div>"
            ],
            "text/plain": [
              "        atime  ...             tag\n",
              "0  1387295797  ...             NaN\n",
              "1  1387295796  ...             NaN\n",
              "2  1387295743  ...             NaN\n",
              "3  1387295743  ...  <RECENT-CTIME>\n",
              "4  1387295742  ...             NaN\n",
              "\n",
              "[5 rows x 5 columns]"
            ]
          },
          "metadata": {
            "tags": []
          },
          "execution_count": 4
        }
      ]
    },
    {
      "cell_type": "markdown",
      "metadata": {
        "id": "-Sbef9mwvb-7",
        "colab_type": "text"
      },
      "source": [
        "The magical part about parsing timestamps in pandas is that numpy datetimes are already stored as Unix timestamps. So all we need to do is tell pandas that these integers are actually datetimes -- it doesn't need to do any conversion at all.\n",
        "\n",
        "We need to convert these to ints to start:"
      ]
    },
    {
      "cell_type": "code",
      "metadata": {
        "trusted": false,
        "id": "7AOHJCjevb-9",
        "colab_type": "code",
        "colab": {}
      },
      "source": [
        "popcon['atime'] = popcon['atime'].astype(int)\n",
        "popcon['ctime'] = popcon['ctime'].astype(int)"
      ],
      "execution_count": 0,
      "outputs": []
    },
    {
      "cell_type": "markdown",
      "metadata": {
        "id": "UXFLTTNIvb_C",
        "colab_type": "text"
      },
      "source": [
        "Every numpy array and pandas series has a dtype -- this is usually `int64`, `float64`, or `object`. Some of the time types available are `datetime64[s]`, `datetime64[ms]`, and `datetime64[us]`. There are also `timedelta` types, similarly.\n",
        "\n",
        "We can use the `pd.to_datetime` function to convert our integer timestamps into datetimes. This is a constant-time operation -- we're not actually changing any of the data, just how pandas thinks about it."
      ]
    },
    {
      "cell_type": "code",
      "metadata": {
        "trusted": false,
        "id": "dPiC4opnvb_E",
        "colab_type": "code",
        "colab": {}
      },
      "source": [
        "popcon['atime'] = pd.to_datetime(popcon['atime'], unit='s')\n",
        "popcon['ctime'] = pd.to_datetime(popcon['ctime'], unit='s')"
      ],
      "execution_count": 0,
      "outputs": []
    },
    {
      "cell_type": "markdown",
      "metadata": {
        "id": "sq1BOVv5vb_H",
        "colab_type": "text"
      },
      "source": [
        "If we look at the dtype now, it's `<M8[ns]`. As far as I can tell `M8` is secret code for `datetime64`."
      ]
    },
    {
      "cell_type": "code",
      "metadata": {
        "trusted": false,
        "id": "W0D21MpZvb_I",
        "colab_type": "code",
        "colab": {
          "base_uri": "https://localhost:8080/",
          "height": 35
        },
        "outputId": "13c583c9-0aeb-431f-e63e-8cfc2904e22c"
      },
      "source": [
        "popcon['atime'].dtype"
      ],
      "execution_count": 7,
      "outputs": [
        {
          "output_type": "execute_result",
          "data": {
            "text/plain": [
              "dtype('<M8[ns]')"
            ]
          },
          "metadata": {
            "tags": []
          },
          "execution_count": 7
        }
      ]
    },
    {
      "cell_type": "markdown",
      "metadata": {
        "id": "MWjJHDCAvb_M",
        "colab_type": "text"
      },
      "source": [
        "So now we can look at our `atime` and `ctime` as dates!"
      ]
    },
    {
      "cell_type": "code",
      "metadata": {
        "trusted": false,
        "id": "bKM1YcR8vb_N",
        "colab_type": "code",
        "colab": {
          "base_uri": "https://localhost:8080/",
          "height": 202
        },
        "outputId": "b19cd56c-f96f-4dd8-ab3d-eec1cd2459ec"
      },
      "source": [
        "popcon[:5]"
      ],
      "execution_count": 8,
      "outputs": [
        {
          "output_type": "execute_result",
          "data": {
            "text/html": [
              "<div>\n",
              "<style scoped>\n",
              "    .dataframe tbody tr th:only-of-type {\n",
              "        vertical-align: middle;\n",
              "    }\n",
              "\n",
              "    .dataframe tbody tr th {\n",
              "        vertical-align: top;\n",
              "    }\n",
              "\n",
              "    .dataframe thead th {\n",
              "        text-align: right;\n",
              "    }\n",
              "</style>\n",
              "<table border=\"1\" class=\"dataframe\">\n",
              "  <thead>\n",
              "    <tr style=\"text-align: right;\">\n",
              "      <th></th>\n",
              "      <th>atime</th>\n",
              "      <th>ctime</th>\n",
              "      <th>package-name</th>\n",
              "      <th>mru-program</th>\n",
              "      <th>tag</th>\n",
              "    </tr>\n",
              "  </thead>\n",
              "  <tbody>\n",
              "    <tr>\n",
              "      <th>0</th>\n",
              "      <td>2013-12-17 15:56:37</td>\n",
              "      <td>2013-05-04 02:07:40</td>\n",
              "      <td>perl-base</td>\n",
              "      <td>/usr/bin/perl</td>\n",
              "      <td>NaN</td>\n",
              "    </tr>\n",
              "    <tr>\n",
              "      <th>1</th>\n",
              "      <td>2013-12-17 15:56:36</td>\n",
              "      <td>2012-12-01 14:01:20</td>\n",
              "      <td>login</td>\n",
              "      <td>/bin/su</td>\n",
              "      <td>NaN</td>\n",
              "    </tr>\n",
              "    <tr>\n",
              "      <th>2</th>\n",
              "      <td>2013-12-17 15:55:43</td>\n",
              "      <td>2012-12-01 05:54:35</td>\n",
              "      <td>libtalloc2</td>\n",
              "      <td>/usr/lib/x86_64-linux-gnu/libtalloc.so.2.0.7</td>\n",
              "      <td>NaN</td>\n",
              "    </tr>\n",
              "    <tr>\n",
              "      <th>3</th>\n",
              "      <td>2013-12-17 15:55:43</td>\n",
              "      <td>2013-12-16 20:03:24</td>\n",
              "      <td>libwbclient0</td>\n",
              "      <td>/usr/lib/x86_64-linux-gnu/libwbclient.so.0</td>\n",
              "      <td>&lt;RECENT-CTIME&gt;</td>\n",
              "    </tr>\n",
              "    <tr>\n",
              "      <th>4</th>\n",
              "      <td>2013-12-17 15:55:42</td>\n",
              "      <td>2012-12-01 05:54:13</td>\n",
              "      <td>libselinux1</td>\n",
              "      <td>/lib/x86_64-linux-gnu/libselinux.so.1</td>\n",
              "      <td>NaN</td>\n",
              "    </tr>\n",
              "  </tbody>\n",
              "</table>\n",
              "</div>"
            ],
            "text/plain": [
              "                atime  ...             tag\n",
              "0 2013-12-17 15:56:37  ...             NaN\n",
              "1 2013-12-17 15:56:36  ...             NaN\n",
              "2 2013-12-17 15:55:43  ...             NaN\n",
              "3 2013-12-17 15:55:43  ...  <RECENT-CTIME>\n",
              "4 2013-12-17 15:55:42  ...             NaN\n",
              "\n",
              "[5 rows x 5 columns]"
            ]
          },
          "metadata": {
            "tags": []
          },
          "execution_count": 8
        }
      ]
    },
    {
      "cell_type": "markdown",
      "metadata": {
        "id": "HdeWg0WCvb_R",
        "colab_type": "text"
      },
      "source": [
        "Now suppose we want to look at all packages that aren't libraries.\n",
        "\n",
        "First, I want to get rid of everything with timestamp 0. Notice how we can just use a string in this comparison, even though it's actually a timestamp on the inside? That is because pandas is amazing."
      ]
    },
    {
      "cell_type": "code",
      "metadata": {
        "trusted": false,
        "id": "t-t8Nq1Wvb_S",
        "colab_type": "code",
        "colab": {}
      },
      "source": [
        "popcon = popcon[popcon['atime'] > '1970-01-01']"
      ],
      "execution_count": 0,
      "outputs": []
    },
    {
      "cell_type": "markdown",
      "metadata": {
        "id": "2QIZgjBLvb_V",
        "colab_type": "text"
      },
      "source": [
        "Now we can use pandas' magical string abilities to just look at rows where the package name doesn't contain 'lib'."
      ]
    },
    {
      "cell_type": "code",
      "metadata": {
        "trusted": false,
        "id": "ntQWPpSNvb_X",
        "colab_type": "code",
        "colab": {}
      },
      "source": [
        "nonlibraries = popcon[~popcon['package-name'].str.contains('lib')]"
      ],
      "execution_count": 0,
      "outputs": []
    },
    {
      "cell_type": "code",
      "metadata": {
        "trusted": false,
        "id": "XqI72t19vb_a",
        "colab_type": "code",
        "colab": {
          "base_uri": "https://localhost:8080/",
          "height": 208
        },
        "outputId": "99fde191-f2df-4cda-c6a5-1a3a5a6c9164"
      },
      "source": [
        "nonlibraries.sort_values('ctime', ascending=False)[:10]\n",
        "nonlibraries.sort_values('ctime', ascending=False)[:10]['mru-program']"
      ],
      "execution_count": 13,
      "outputs": [
        {
          "output_type": "execute_result",
          "data": {
            "text/plain": [
              "57                                          /usr/bin/ddd\n",
              "450                                         /usr/bin/npm\n",
              "454         /usr/lib/plugs/pantheon/keyboard/options.txt\n",
              "445    /usr/lib/thunderbird-addons/extensions/langpac...\n",
              "396                     /usr/sbin/update-software-center\n",
              "449                                  /usr/bin/net.samba3\n",
              "397                     /usr/lib/postgresql/9.1/bin/psql\n",
              "398               /usr/lib/postgresql/9.1/bin/postmaster\n",
              "452                    /usr/include/php5/main/snprintf.h\n",
              "440                          /usr/share/php/XML/Util.php\n",
              "Name: mru-program, dtype: object"
            ]
          },
          "metadata": {
            "tags": []
          },
          "execution_count": 13
        }
      ]
    },
    {
      "cell_type": "markdown",
      "metadata": {
        "id": "t0J8LLupvb_e",
        "colab_type": "text"
      },
      "source": [
        "Okay, cool, it says that I I installed ddd recently. And postgresql! I remember installing those things. Neat."
      ]
    },
    {
      "cell_type": "markdown",
      "metadata": {
        "id": "bcMZ30j4vb_g",
        "colab_type": "text"
      },
      "source": [
        "The whole message here is that if you have a timestamp in seconds or milliseconds or nanoseconds, then you can just \"cast\" it to a `'datetime64[the-right-thing]'` and pandas/numpy will take care of the rest."
      ]
    },
    {
      "cell_type": "markdown",
      "metadata": {
        "id": "4iiLwzrGvb_h",
        "colab_type": "text"
      },
      "source": [
        "<style>\n",
        "    @font-face {\n",
        "        font-family: \"Computer Modern\";\n",
        "        src: url('http://mirrors.ctan.org/fonts/cm-unicode/fonts/otf/cmunss.otf');\n",
        "    }\n",
        "    div.cell{\n",
        "        width:800px;\n",
        "        margin-left:16% !important;\n",
        "        margin-right:auto;\n",
        "    }\n",
        "    h1 {\n",
        "        font-family: Helvetica, serif;\n",
        "    }\n",
        "    h4{\n",
        "        margin-top:12px;\n",
        "        margin-bottom: 3px;\n",
        "       }\n",
        "    div.text_cell_render{\n",
        "        font-family: Computer Modern, \"Helvetica Neue\", Arial, Helvetica, Geneva, sans-serif;\n",
        "        line-height: 145%;\n",
        "        font-size: 130%;\n",
        "        width:800px;\n",
        "        margin-left:auto;\n",
        "        margin-right:auto;\n",
        "    }\n",
        "    .CodeMirror{\n",
        "            font-family: \"Source Code Pro\", source-code-pro,Consolas, monospace;\n",
        "    }\n",
        "    .text_cell_render h5 {\n",
        "        font-weight: 300;\n",
        "        font-size: 22pt;\n",
        "        color: #4057A1;\n",
        "        font-style: italic;\n",
        "        margin-bottom: .5em;\n",
        "        margin-top: 0.5em;\n",
        "        display: block;\n",
        "    }\n",
        "    \n",
        "    .warning{\n",
        "        color: rgb( 240, 20, 20 )\n",
        "        }  "
      ]
    }
  ]
}